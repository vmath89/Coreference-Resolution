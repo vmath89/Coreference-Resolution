{
 "cells": [
  {
   "cell_type": "code",
   "execution_count": 1,
   "metadata": {
    "collapsed": true
   },
   "outputs": [],
   "source": [
    "#import ipynb.fs.full.prepare_training_data as train"
   ]
  },
  {
   "cell_type": "code",
   "execution_count": 2,
   "metadata": {
    "collapsed": true
   },
   "outputs": [],
   "source": [
    "import torch\n",
    "import torch.nn as nn\n",
    "import numpy as np\n",
    "import matplotlib.pyplot as plt\n",
    "from torch.autograd import Variable\n",
    "import torch.utils.data as data_utils"
   ]
  },
  {
   "cell_type": "code",
   "execution_count": 80,
   "metadata": {
    "collapsed": true
   },
   "outputs": [],
   "source": [
    "input_ = np.load('/home/vishesh/TUM/Thesis/coref-json/input_.npy')"
   ]
  },
  {
   "cell_type": "code",
   "execution_count": 81,
   "metadata": {
    "collapsed": true
   },
   "outputs": [],
   "source": [
    "output_ = np.load('/home/vishesh/TUM/Thesis/coref-json/output_.npy')"
   ]
  },
  {
   "cell_type": "code",
   "execution_count": 117,
   "metadata": {},
   "outputs": [
    {
     "data": {
      "text/plain": [
       "array([0])"
      ]
     },
     "execution_count": 117,
     "metadata": {},
     "output_type": "execute_result"
    }
   ],
   "source": [
    "output_[10]"
   ]
  },
  {
   "cell_type": "code",
   "execution_count": 82,
   "metadata": {},
   "outputs": [
    {
     "data": {
      "text/plain": [
       "(1239, 1)"
      ]
     },
     "execution_count": 82,
     "metadata": {},
     "output_type": "execute_result"
    }
   ],
   "source": [
    "input_[0].shape"
   ]
  },
  {
   "cell_type": "code",
   "execution_count": 110,
   "metadata": {
    "collapsed": true
   },
   "outputs": [],
   "source": [
    "input_dim = 1239\n",
    "hidden_dim1 = 300\n",
    "hidden_dim2 = 200\n",
    "hidden_dim3 = 500\n",
    "output_dim = 2\n",
    "batch_size = 8\n",
    "num_epochs = 5"
   ]
  },
  {
   "cell_type": "code",
   "execution_count": 84,
   "metadata": {
    "collapsed": true
   },
   "outputs": [],
   "source": [
    "# Numpy ndarray list to torch tensor list\n",
    "input_tensor_list = []\n",
    "for tensor in input_:\n",
    "    input_tensor_list.append((torch.from_numpy(tensor.reshape(1239))).float())"
   ]
  },
  {
   "cell_type": "code",
   "execution_count": 85,
   "metadata": {
    "collapsed": true
   },
   "outputs": [],
   "source": [
    "output_tensor_list = []\n",
    "for tensor in output_:\n",
    "    output_tensor_list.append((torch.from_numpy(tensor)))"
   ]
  },
  {
   "cell_type": "code",
   "execution_count": 86,
   "metadata": {},
   "outputs": [
    {
     "name": "stdout",
     "output_type": "stream",
     "text": [
      "6090\n",
      "6090\n"
     ]
    }
   ],
   "source": [
    "print (len(input_tensor_list))\n",
    "print (len(output_tensor_list))"
   ]
  },
  {
   "cell_type": "code",
   "execution_count": 92,
   "metadata": {},
   "outputs": [
    {
     "data": {
      "text/plain": [
       "\n",
       " -0.2243\n",
       "  0.2743\n",
       "  0.0547\n",
       "   ⋮    \n",
       "  1.0000\n",
       "  0.0000\n",
       "  1.0000\n",
       "[torch.FloatTensor of size 6195000]"
      ]
     },
     "execution_count": 92,
     "metadata": {},
     "output_type": "execute_result"
    }
   ],
   "source": [
    "input_tensor = torch.Tensor(5000, 1239)\n",
    "torch.cat(input_tensor_list[:5000], out = input_tensor)\n"
   ]
  },
  {
   "cell_type": "code",
   "execution_count": 93,
   "metadata": {},
   "outputs": [
    {
     "data": {
      "text/plain": [
       "\n",
       " 0\n",
       " 0\n",
       " 1\n",
       "⋮ \n",
       " 0\n",
       " 0\n",
       " 1\n",
       "[torch.LongTensor of size 5000]"
      ]
     },
     "execution_count": 93,
     "metadata": {},
     "output_type": "execute_result"
    }
   ],
   "source": [
    "label_tensor = torch.LongTensor(5000, 1)\n",
    "torch.cat(output_tensor_list[:5000], out = label_tensor)\n",
    "#label_tensor = label_tensor.view(129054, 1)"
   ]
  },
  {
   "cell_type": "code",
   "execution_count": 94,
   "metadata": {},
   "outputs": [
    {
     "data": {
      "text/plain": [
       "\n",
       " 0.3020\n",
       "-0.1389\n",
       "-0.1218\n",
       "   ⋮   \n",
       " 0.0000\n",
       " 0.0000\n",
       " 0.0000\n",
       "[torch.FloatTensor of size 1350510]"
      ]
     },
     "execution_count": 94,
     "metadata": {},
     "output_type": "execute_result"
    }
   ],
   "source": [
    "test_input_tensor = torch.Tensor(1090, 1239)\n",
    "torch.cat(input_tensor_list[5000:], out = test_input_tensor)"
   ]
  },
  {
   "cell_type": "code",
   "execution_count": 95,
   "metadata": {},
   "outputs": [
    {
     "data": {
      "text/plain": [
       "\n",
       " 0\n",
       " 0\n",
       " 0\n",
       "⋮ \n",
       " 1\n",
       " 1\n",
       " 0\n",
       "[torch.LongTensor of size 1090]"
      ]
     },
     "execution_count": 95,
     "metadata": {},
     "output_type": "execute_result"
    }
   ],
   "source": [
    "test_label_tensor = torch.LongTensor(1090, 1)\n",
    "torch.cat(output_tensor_list[5000:], out = test_label_tensor)"
   ]
  },
  {
   "cell_type": "code",
   "execution_count": 96,
   "metadata": {},
   "outputs": [],
   "source": [
    "input_tensor = input_tensor.view(5000, 1239)\n",
    "test_input_tensor = test_input_tensor.view(1090, 1239)"
   ]
  },
  {
   "cell_type": "code",
   "execution_count": 97,
   "metadata": {
    "collapsed": true
   },
   "outputs": [],
   "source": [
    "train = data_utils.TensorDataset(input_tensor, label_tensor)\n",
    "train_loader = data_utils.DataLoader(train, batch_size=batch_size, shuffle=True)"
   ]
  },
  {
   "cell_type": "code",
   "execution_count": 98,
   "metadata": {
    "collapsed": true
   },
   "outputs": [],
   "source": [
    "test = data_utils.TensorDataset(test_input_tensor, test_label_tensor)\n",
    "test_loader = data_utils.DataLoader(test, batch_size=batch_size, shuffle=False)"
   ]
  },
  {
   "cell_type": "code",
   "execution_count": 99,
   "metadata": {},
   "outputs": [
    {
     "data": {
      "text/plain": [
       "625"
      ]
     },
     "execution_count": 99,
     "metadata": {},
     "output_type": "execute_result"
    }
   ],
   "source": [
    "len(train_loader)"
   ]
  },
  {
   "cell_type": "code",
   "execution_count": 104,
   "metadata": {
    "collapsed": true
   },
   "outputs": [],
   "source": [
    "class FFNN(nn.Module):\n",
    "    def __init__(self, input_dim, hidden_dim1, hidden_dim2, hidden_dim3, output_dim):\n",
    "        super(FFNN, self).__init__()\n",
    "\n",
    "        self.fc1 = nn.Linear(input_dim, hidden_dim1)\n",
    "        self.relu1 = nn.ReLU()\n",
    "\n",
    "        self.fc2 = nn.Linear(hidden_dim1, hidden_dim2)\n",
    "        self.relu2 = nn.ReLU()\n",
    "\n",
    "        #self.fc3 = nn.Linear(hidden_dim2, hidden_dim3)\n",
    "        #self.relu3 = nn.ReLU()\n",
    "\n",
    "        self.fc4 = nn.Linear(hidden_dim2, output_dim)\n",
    "    \n",
    "    def forward(self, x):\n",
    "        #x = x.view(-1, 1337)\n",
    "        out = self.fc1(x)\n",
    "        out = self.relu1(out)\n",
    "        out = self.fc2(out)\n",
    "        out = self.relu2(out)\n",
    "        #out = self.fc3(out)\n",
    "        #out = self.relu3(out)\n",
    "        out = self.fc4(out)\n",
    "        \n",
    "        return out\n",
    "        "
   ]
  },
  {
   "cell_type": "code",
   "execution_count": 111,
   "metadata": {
    "collapsed": true
   },
   "outputs": [],
   "source": [
    "model = FFNN(input_dim, hidden_dim1, hidden_dim2, hidden_dim3, output_dim)"
   ]
  },
  {
   "cell_type": "code",
   "execution_count": 112,
   "metadata": {
    "collapsed": true
   },
   "outputs": [],
   "source": [
    "learning_rate = 0.1\n",
    "optimizer = torch.optim.SGD(model.parameters(), lr = learning_rate)\n",
    "\n",
    "# Loss Function\n",
    "criterion = nn.CrossEntropyLoss()"
   ]
  },
  {
   "cell_type": "code",
   "execution_count": 113,
   "metadata": {
    "scrolled": true
   },
   "outputs": [
    {
     "name": "stdout",
     "output_type": "stream",
     "text": [
      "true positive: 0\n",
      "false positive: 0\n",
      "false negative: 161\n",
      "Epoch: 0, Iteration: 500, Loss: 0.338083952665329, Precision: 0, Recall: 0.0, F1: 0\n",
      "true positive: 0\n",
      "false positive: 0\n",
      "false negative: 161\n",
      "Epoch: 1, Iteration: 1000, Loss: 0.14140631258487701, Precision: 0, Recall: 0.0, F1: 0\n",
      "true positive: 41\n",
      "false positive: 0\n",
      "false negative: 120\n",
      "Epoch: 2, Iteration: 1500, Loss: 0.06965839862823486, Precision: 1.0, Recall: 0.2546583850931677, F1: 0.4059405940594059\n",
      "true positive: 76\n",
      "false positive: 32\n",
      "false negative: 85\n",
      "Epoch: 3, Iteration: 2000, Loss: 0.7698437571525574, Precision: 0.7037037037037037, Recall: 0.4720496894409938, F1: 0.5650557620817844\n",
      "true positive: 95\n",
      "false positive: 28\n",
      "false negative: 66\n",
      "Epoch: 3, Iteration: 2500, Loss: 0.0356283113360405, Precision: 0.7723577235772358, Recall: 0.5900621118012422, F1: 0.6690140845070423\n",
      "true positive: 92\n",
      "false positive: 10\n",
      "false negative: 69\n",
      "Epoch: 4, Iteration: 3000, Loss: 0.3427479863166809, Precision: 0.9019607843137255, Recall: 0.5714285714285714, F1: 0.6996197718631177\n",
      "true positive: 118\n",
      "false positive: 14\n",
      "false negative: 43\n",
      "Epoch: 5, Iteration: 3500, Loss: 0.49947646260261536, Precision: 0.8939393939393939, Recall: 0.7329192546583851, F1: 0.8054607508532424\n",
      "true positive: 92\n",
      "false positive: 4\n",
      "false negative: 69\n",
      "Epoch: 6, Iteration: 4000, Loss: 0.006675590295344591, Precision: 0.9583333333333334, Recall: 0.5714285714285714, F1: 0.7159533073929961\n",
      "true positive: 130\n",
      "false positive: 40\n",
      "false negative: 31\n",
      "Epoch: 7, Iteration: 4500, Loss: 0.007420683745294809, Precision: 0.7647058823529411, Recall: 0.8074534161490683, F1: 0.7854984894259819\n",
      "true positive: 126\n",
      "false positive: 15\n",
      "false negative: 35\n",
      "Epoch: 7, Iteration: 5000, Loss: 0.05647927150130272, Precision: 0.8936170212765957, Recall: 0.782608695652174, F1: 0.8344370860927152\n",
      "true positive: 106\n",
      "false positive: 11\n",
      "false negative: 55\n",
      "Epoch: 8, Iteration: 5500, Loss: 0.007267400622367859, Precision: 0.905982905982906, Recall: 0.6583850931677019, F1: 0.7625899280575539\n",
      "true positive: 140\n",
      "false positive: 34\n",
      "false negative: 21\n",
      "Epoch: 9, Iteration: 6000, Loss: 0.00017094600480049849, Precision: 0.8045977011494253, Recall: 0.8695652173913043, F1: 0.8358208955223881\n",
      "true positive: 124\n",
      "false positive: 18\n",
      "false negative: 37\n",
      "Epoch: 10, Iteration: 6500, Loss: 0.04066820442676544, Precision: 0.8732394366197183, Recall: 0.7701863354037267, F1: 0.8184818481848185\n",
      "true positive: 142\n",
      "false positive: 40\n",
      "false negative: 19\n",
      "Epoch: 11, Iteration: 7000, Loss: 0.0017159194685518742, Precision: 0.7802197802197802, Recall: 0.8819875776397516, F1: 0.8279883381924198\n",
      "true positive: 111\n",
      "false positive: 9\n",
      "false negative: 50\n",
      "Epoch: 11, Iteration: 7500, Loss: 0.015070067718625069, Precision: 0.925, Recall: 0.6894409937888198, F1: 0.7900355871886121\n",
      "true positive: 137\n",
      "false positive: 36\n",
      "false negative: 24\n",
      "Epoch: 12, Iteration: 8000, Loss: 0.01129639707505703, Precision: 0.791907514450867, Recall: 0.8509316770186336, F1: 0.8203592814371257\n",
      "true positive: 152\n",
      "false positive: 61\n",
      "false negative: 9\n",
      "Epoch: 13, Iteration: 8500, Loss: 0.10114342719316483, Precision: 0.7136150234741784, Recall: 0.9440993788819876, F1: 0.8128342245989304\n",
      "true positive: 71\n",
      "false positive: 4\n",
      "false negative: 90\n",
      "Epoch: 14, Iteration: 9000, Loss: 4.241016722517088e-05, Precision: 0.9466666666666667, Recall: 0.4409937888198758, F1: 0.6016949152542372\n",
      "true positive: 137\n",
      "false positive: 28\n",
      "false negative: 24\n",
      "Epoch: 15, Iteration: 9500, Loss: 7.538948557339609e-05, Precision: 0.8303030303030303, Recall: 0.8509316770186336, F1: 0.8404907975460123\n",
      "true positive: 142\n",
      "false positive: 31\n",
      "false negative: 19\n",
      "Epoch: 15, Iteration: 10000, Loss: 0.0006559761241078377, Precision: 0.8208092485549133, Recall: 0.8819875776397516, F1: 0.8502994011976048\n",
      "true positive: 146\n",
      "false positive: 50\n",
      "false negative: 15\n",
      "Epoch: 16, Iteration: 10500, Loss: 0.002252105623483658, Precision: 0.7448979591836735, Recall: 0.906832298136646, F1: 0.8179271708683475\n",
      "true positive: 154\n",
      "false positive: 39\n",
      "false negative: 7\n",
      "Epoch: 17, Iteration: 11000, Loss: 0.00980458129197359, Precision: 0.7979274611398963, Recall: 0.9565217391304348, F1: 0.8700564971751413\n",
      "true positive: 122\n",
      "false positive: 19\n",
      "false negative: 39\n",
      "Epoch: 18, Iteration: 11500, Loss: 0.013230985961854458, Precision: 0.8652482269503546, Recall: 0.7577639751552795, F1: 0.8079470198675497\n",
      "true positive: 136\n",
      "false positive: 15\n",
      "false negative: 25\n",
      "Epoch: 19, Iteration: 12000, Loss: 0.0002732480934355408, Precision: 0.9006622516556292, Recall: 0.84472049689441, F1: 0.8717948717948719\n",
      "true positive: 108\n",
      "false positive: 25\n",
      "false negative: 53\n",
      "Epoch: 19, Iteration: 12500, Loss: 0.08219391107559204, Precision: 0.8120300751879699, Recall: 0.6708074534161491, F1: 0.7346938775510204\n",
      "true positive: 146\n",
      "false positive: 49\n",
      "false negative: 15\n",
      "Epoch: 20, Iteration: 13000, Loss: 0.0032391701824963093, Precision: 0.7487179487179487, Recall: 0.906832298136646, F1: 0.8202247191011236\n",
      "true positive: 144\n",
      "false positive: 46\n",
      "false negative: 17\n",
      "Epoch: 21, Iteration: 13500, Loss: 0.04626806080341339, Precision: 0.7578947368421053, Recall: 0.8944099378881988, F1: 0.8205128205128206\n",
      "true positive: 104\n",
      "false positive: 23\n",
      "false negative: 57\n",
      "Epoch: 22, Iteration: 14000, Loss: 0.00780446408316493, Precision: 0.8188976377952756, Recall: 0.6459627329192547, F1: 0.7222222222222222\n",
      "true positive: 143\n",
      "false positive: 48\n",
      "false negative: 18\n",
      "Epoch: 23, Iteration: 14500, Loss: 0.001752314972691238, Precision: 0.7486910994764397, Recall: 0.8881987577639752, F1: 0.8124999999999999\n",
      "true positive: 140\n",
      "false positive: 32\n",
      "false negative: 21\n",
      "Epoch: 23, Iteration: 15000, Loss: 0.0029961122199892998, Precision: 0.813953488372093, Recall: 0.8695652173913043, F1: 0.8408408408408409\n",
      "true positive: 148\n",
      "false positive: 50\n",
      "false negative: 13\n",
      "Epoch: 24, Iteration: 15500, Loss: 0.002781675662845373, Precision: 0.7474747474747475, Recall: 0.9192546583850931, F1: 0.8245125348189416\n",
      "true positive: 150\n",
      "false positive: 63\n",
      "false negative: 11\n",
      "Epoch: 25, Iteration: 16000, Loss: 0.002264865441247821, Precision: 0.704225352112676, Recall: 0.9316770186335404, F1: 0.8021390374331551\n",
      "true positive: 150\n",
      "false positive: 67\n",
      "false negative: 11\n",
      "Epoch: 26, Iteration: 16500, Loss: 0.00016855003195814788, Precision: 0.6912442396313364, Recall: 0.9316770186335404, F1: 0.7936507936507935\n",
      "true positive: 146\n",
      "false positive: 50\n",
      "false negative: 15\n",
      "Epoch: 27, Iteration: 17000, Loss: 0.00022160047956276685, Precision: 0.7448979591836735, Recall: 0.906832298136646, F1: 0.8179271708683475\n",
      "true positive: 152\n",
      "false positive: 81\n",
      "false negative: 9\n",
      "Epoch: 27, Iteration: 17500, Loss: 7.70848885167652e-07, Precision: 0.6523605150214592, Recall: 0.9440993788819876, F1: 0.7715736040609137\n",
      "true positive: 141\n",
      "false positive: 36\n",
      "false negative: 20\n",
      "Epoch: 28, Iteration: 18000, Loss: 0.02696477621793747, Precision: 0.7966101694915254, Recall: 0.8757763975155279, F1: 0.834319526627219\n",
      "true positive: 137\n",
      "false positive: 47\n",
      "false negative: 24\n",
      "Epoch: 29, Iteration: 18500, Loss: 3.210632348782383e-05, Precision: 0.7445652173913043, Recall: 0.8509316770186336, F1: 0.7942028985507246\n",
      "true positive: 142\n",
      "false positive: 65\n",
      "false negative: 19\n",
      "Epoch: 30, Iteration: 19000, Loss: 1.1558818187040742e-06, Precision: 0.6859903381642513, Recall: 0.8819875776397516, F1: 0.7717391304347827\n",
      "true positive: 137\n",
      "false positive: 22\n",
      "false negative: 24\n",
      "Epoch: 31, Iteration: 19500, Loss: 2.563330951943499e-07, Precision: 0.8616352201257862, Recall: 0.8509316770186336, F1: 0.85625\n",
      "true positive: 143\n",
      "false positive: 80\n",
      "false negative: 18\n",
      "Epoch: 31, Iteration: 20000, Loss: 0.0025394875556230545, Precision: 0.6412556053811659, Recall: 0.8881987577639752, F1: 0.7447916666666666\n",
      "true positive: 141\n",
      "false positive: 37\n",
      "false negative: 20\n",
      "Epoch: 32, Iteration: 20500, Loss: 0.0015250518918037415, Precision: 0.7921348314606742, Recall: 0.8757763975155279, F1: 0.831858407079646\n",
      "true positive: 145\n",
      "false positive: 39\n",
      "false negative: 16\n",
      "Epoch: 33, Iteration: 21000, Loss: 0.02368827722966671, Precision: 0.7880434782608695, Recall: 0.9006211180124224, F1: 0.8405797101449276\n",
      "true positive: 144\n",
      "false positive: 51\n",
      "false negative: 17\n",
      "Epoch: 34, Iteration: 21500, Loss: 5.8203607267159896e-08, Precision: 0.7384615384615385, Recall: 0.8944099378881988, F1: 0.808988764044944\n"
     ]
    },
    {
     "name": "stdout",
     "output_type": "stream",
     "text": [
      "true positive: 141\n",
      "false positive: 31\n",
      "false negative: 20\n",
      "Epoch: 35, Iteration: 22000, Loss: 4.068656096478662e-07, Precision: 0.8197674418604651, Recall: 0.8757763975155279, F1: 0.8468468468468469\n",
      "true positive: 142\n",
      "false positive: 35\n",
      "false negative: 19\n",
      "Epoch: 35, Iteration: 22500, Loss: 3.0178816246007045e-07, Precision: 0.8022598870056498, Recall: 0.8819875776397516, F1: 0.8402366863905325\n",
      "true positive: 124\n",
      "false positive: 26\n",
      "false negative: 37\n",
      "Epoch: 36, Iteration: 23000, Loss: 0.0004473348380997777, Precision: 0.8266666666666667, Recall: 0.7701863354037267, F1: 0.797427652733119\n",
      "true positive: 140\n",
      "false positive: 36\n",
      "false negative: 21\n",
      "Epoch: 37, Iteration: 23500, Loss: 0.00020146259339526296, Precision: 0.7954545454545454, Recall: 0.8695652173913043, F1: 0.830860534124629\n",
      "true positive: 142\n",
      "false positive: 29\n",
      "false negative: 19\n",
      "Epoch: 38, Iteration: 24000, Loss: 1.9983590391348116e-05, Precision: 0.8304093567251462, Recall: 0.8819875776397516, F1: 0.8554216867469879\n",
      "true positive: 143\n",
      "false positive: 33\n",
      "false negative: 18\n",
      "Epoch: 39, Iteration: 24500, Loss: 0.00030272910953499377, Precision: 0.8125, Recall: 0.8881987577639752, F1: 0.8486646884272997\n",
      "true positive: 138\n",
      "false positive: 30\n",
      "false negative: 23\n",
      "Epoch: 39, Iteration: 25000, Loss: 0.003670063568279147, Precision: 0.8214285714285714, Recall: 0.8571428571428571, F1: 0.8389057750759878\n",
      "true positive: 144\n",
      "false positive: 35\n",
      "false negative: 17\n",
      "Epoch: 40, Iteration: 25500, Loss: 7.099520757947175e-07, Precision: 0.8044692737430168, Recall: 0.8944099378881988, F1: 0.8470588235294119\n",
      "true positive: 139\n",
      "false positive: 24\n",
      "false negative: 22\n",
      "Epoch: 41, Iteration: 26000, Loss: 2.6303396225557663e-06, Precision: 0.852760736196319, Recall: 0.8633540372670807, F1: 0.8580246913580246\n",
      "true positive: 137\n",
      "false positive: 29\n",
      "false negative: 24\n",
      "Epoch: 42, Iteration: 26500, Loss: 3.935074346372858e-06, Precision: 0.8253012048192772, Recall: 0.8509316770186336, F1: 0.8379204892966361\n",
      "true positive: 137\n",
      "false positive: 23\n",
      "false negative: 24\n",
      "Epoch: 43, Iteration: 27000, Loss: 1.7352581593854666e-09, Precision: 0.85625, Recall: 0.8509316770186336, F1: 0.853582554517134\n",
      "true positive: 144\n",
      "false positive: 51\n",
      "false negative: 17\n",
      "Epoch: 43, Iteration: 27500, Loss: 7.480059866793454e-05, Precision: 0.7384615384615385, Recall: 0.8944099378881988, F1: 0.808988764044944\n",
      "true positive: 142\n",
      "false positive: 31\n",
      "false negative: 19\n",
      "Epoch: 44, Iteration: 28000, Loss: 1.054157291946467e-05, Precision: 0.8208092485549133, Recall: 0.8819875776397516, F1: 0.8502994011976048\n",
      "true positive: 143\n",
      "false positive: 38\n",
      "false negative: 18\n",
      "Epoch: 45, Iteration: 28500, Loss: 3.8142102312122006e-06, Precision: 0.7900552486187845, Recall: 0.8881987577639752, F1: 0.8362573099415205\n",
      "true positive: 142\n",
      "false positive: 36\n",
      "false negative: 19\n",
      "Epoch: 46, Iteration: 29000, Loss: 3.3062670468098077e-07, Precision: 0.797752808988764, Recall: 0.8819875776397516, F1: 0.8377581120943952\n",
      "true positive: 142\n",
      "false positive: 35\n",
      "false negative: 19\n",
      "Epoch: 47, Iteration: 29500, Loss: 4.534684308055148e-07, Precision: 0.8022598870056498, Recall: 0.8819875776397516, F1: 0.8402366863905325\n",
      "true positive: 143\n",
      "false positive: 36\n",
      "false negative: 18\n",
      "Epoch: 47, Iteration: 30000, Loss: 3.3925405773516104e-07, Precision: 0.7988826815642458, Recall: 0.8881987577639752, F1: 0.8411764705882353\n",
      "true positive: 142\n",
      "false positive: 33\n",
      "false negative: 19\n",
      "Epoch: 48, Iteration: 30500, Loss: 7.77305194787914e-06, Precision: 0.8114285714285714, Recall: 0.8819875776397516, F1: 0.8452380952380952\n",
      "true positive: 143\n",
      "false positive: 38\n",
      "false negative: 18\n",
      "Epoch: 49, Iteration: 31000, Loss: 1.8655937310541049e-06, Precision: 0.7900552486187845, Recall: 0.8881987577639752, F1: 0.8362573099415205\n"
     ]
    }
   ],
   "source": [
    "iter = 0\n",
    "loss_list = []\n",
    "f1_list = []\n",
    "iter_list = []\n",
    "for epoch in range(50):\n",
    "    for i, data in enumerate(train_loader):\n",
    "        inputs, labels = data\n",
    "        inputs, labels = Variable(inputs), Variable(labels)  \n",
    "        optimizer.zero_grad()\n",
    "        outputs = model(inputs)   \n",
    "        loss = criterion(outputs, labels)        \n",
    "        loss.backward()\n",
    "        optimizer.step()\n",
    "\n",
    "        iter += 1\n",
    "        if iter % 500 == 0:\n",
    "            tp = 0\n",
    "            fp = 0\n",
    "            fn = 0\n",
    "            #correct = 0\n",
    "            #total = 0\n",
    "            #accuracy = 0\n",
    "            for inputs, labels in test_loader:\n",
    "                inputs = Variable(inputs)\n",
    "                outputs = model(inputs)\n",
    "                _, predicted = torch.max(outputs.data, 1)\n",
    "                #print (outputs)\n",
    "                #print (_)\n",
    "                for l, p in zip(labels, predicted):\n",
    "                    if l == 1 and p == 1:\n",
    "                        tp += 1\n",
    "                    if l == 0 and p == 1:\n",
    "                        fp += 1\n",
    "                    if l == 1 and p == 0:\n",
    "                        fn += 1        \n",
    "                #correct += (labels == predicted).sum()\n",
    "            print ('true positive: ' + str(tp))\n",
    "            print ('false positive: ' + str(fp))\n",
    "            print ('false negative: ' + str(fn))\n",
    "            if tp == 0 and fp == 0:\n",
    "                precision = 0\n",
    "            else:\n",
    "                precision = tp / (tp + fp)\n",
    "            if tp == 0 and fn == 0:\n",
    "                recall = 0\n",
    "            else:\n",
    "                recall = tp / (tp + fn)\n",
    "            if precision == 0 and recall == 0:\n",
    "                f1 = 0\n",
    "            else:\n",
    "                f1 = (2 * precision * recall) / (precision + recall)\n",
    "            loss_list.append(loss.data[0])\n",
    "            f1_list.append(f1)\n",
    "            iter_list.append(iter)\n",
    "\n",
    "            \n",
    "            #accuracy = correct/total * 100\n",
    "            print ('Epoch: {}, Iteration: {}, Loss: {}, Precision: {}, Recall: {}, F1: {}'.format(epoch, iter, loss.data[0], precision, recall, f1))"
   ]
  },
  {
   "cell_type": "code",
   "execution_count": 114,
   "metadata": {},
   "outputs": [
    {
     "data": {
      "image/png": "[encoded data removed]",
      "text/plain": [
       "<matplotlib.figure.Figure at 0x7f521277f7f0>"
      ]
     },
     "metadata": {},
     "output_type": "display_data"
    }
   ],
   "source": [
    "plt.plot(iter_list, loss_list)\n",
    "plt.xlabel('Iteration')\n",
    "plt.ylabel('Loss')\n",
    "plt.title('Loss Curve')\n",
    "plt.show()"
   ]
  },
  {
   "cell_type": "code",
   "execution_count": 115,
   "metadata": {},
   "outputs": [
    {
     "data": {
      "image/png": "[encoded data removed]",
      "text/plain": [
       "<matplotlib.figure.Figure at 0x7f52127a1780>"
      ]
     },
     "metadata": {},
     "output_type": "display_data"
    }
   ],
   "source": [
    "plt.plot(iter_list, f1_list)\n",
    "plt.xlabel('Iteration')\n",
    "plt.ylabel('F1 Score')\n",
    "plt.title('F1 score curve')\n",
    "plt.show()"
   ]
  },
  {
   "cell_type": "code",
   "execution_count": 342,
   "metadata": {},
   "outputs": [
    {
     "data": {
      "text/plain": [
       "Variable containing:\n",
       " 2.4668 -2.4418\n",
       "[torch.FloatTensor of size 1x2]"
      ]
     },
     "execution_count": 342,
     "metadata": {},
     "output_type": "execute_result"
    }
   ],
   "source": [
    "pre"
   ]
  },
  {
   "cell_type": "code",
   "execution_count": 343,
   "metadata": {
    "collapsed": true
   },
   "outputs": [],
   "source": [
    "actual = output_tensor_list[99999]"
   ]
  },
  {
   "cell_type": "code",
   "execution_count": 344,
   "metadata": {},
   "outputs": [
    {
     "data": {
      "text/plain": [
       "\n",
       " 0\n",
       "[torch.LongTensor of size 1]"
      ]
     },
     "execution_count": 344,
     "metadata": {},
     "output_type": "execute_result"
    }
   ],
   "source": [
    "actual"
   ]
  },
  {
   "cell_type": "code",
   "execution_count": null,
   "metadata": {
    "collapsed": true
   },
   "outputs": [],
   "source": []
  }
 ],
 "metadata": {
  "kernelspec": {
   "display_name": "Python 3",
   "language": "python",
   "name": "python3"
  },
  "language_info": {
   "codemirror_mode": {
    "name": "ipython",
    "version": 3
   },
   "file_extension": ".py",
   "mimetype": "text/x-python",
   "name": "python",
   "nbconvert_exporter": "python",
   "pygments_lexer": "ipython3",
   "version": "3.6.1"
  }
 },
 "nbformat": 4,
 "nbformat_minor": 2
}
