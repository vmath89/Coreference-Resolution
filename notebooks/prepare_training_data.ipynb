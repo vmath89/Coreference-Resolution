{
 "cells": [
  {
   "cell_type": "code",
   "execution_count": 1,
   "metadata": {
    "collapsed": true
   },
   "outputs": [],
   "source": [
    "from os.path import join\n",
    "import numpy as np\n",
    "from numpy import array\n",
    "import string \n",
    "import gensim\n",
    "import time\n",
    "import json\n",
    "word2vec = gensim.models.Word2Vec"
   ]
  },
  {
   "cell_type": "code",
   "execution_count": 63,
   "metadata": {},
   "outputs": [
    {
     "ename": "SyntaxError",
     "evalue": "invalid syntax (conll_pipeline2.ipynb, line 426)",
     "output_type": "error",
     "traceback": [
      "\u001b[0;36m  File \u001b[0;32m\"/home/vishesh/TUM/Thesis/conll_pipeline2.ipynb\"\u001b[0;36m, line \u001b[0;32m426\u001b[0m\n\u001b[0;31m    {\u001b[0m\n\u001b[0m    ^\u001b[0m\n\u001b[0;31mSyntaxError\u001b[0m\u001b[0;31m:\u001b[0m invalid syntax\n"
     ]
    }
   ],
   "source": [
    "import ipynb.fs.full.conll_pipeline2 as train"
   ]
  },
  {
   "cell_type": "code",
   "execution_count": 58,
   "metadata": {
    "collapsed": true
   },
   "outputs": [],
   "source": [
    "path = '/home/vishesh/TUM/Thesis/coref-json/trainfile1.json'\n",
    "path_to_docs = '/home/vishesh/TUM/Thesis/coref-json/documents.json'"
   ]
  },
  {
   "cell_type": "code",
   "execution_count": 59,
   "metadata": {
    "collapsed": true
   },
   "outputs": [],
   "source": [
    "GLOVE_DIR = \"/home/vishesh/TUM/Thesis/glove6B\""
   ]
  },
  {
   "cell_type": "code",
   "execution_count": 60,
   "metadata": {
    "collapsed": true
   },
   "outputs": [],
   "source": [
    "train_file = json.load(open(path))"
   ]
  },
  {
   "cell_type": "code",
   "execution_count": 61,
   "metadata": {
    "collapsed": true
   },
   "outputs": [],
   "source": [
    "docs_file = json.load(open(path_to_docs))"
   ]
  },
  {
   "cell_type": "code",
   "execution_count": 6,
   "metadata": {
    "collapsed": true
   },
   "outputs": [],
   "source": [
    "#train_file"
   ]
  },
  {
   "cell_type": "code",
   "execution_count": 7,
   "metadata": {
    "collapsed": true
   },
   "outputs": [],
   "source": [
    "model = gensim.models.KeyedVectors.load_word2vec_format(join(GLOVE_DIR, 'glove.6B.50d.w2vformat.txt'), binary=False)"
   ]
  },
  {
   "cell_type": "code",
   "execution_count": 8,
   "metadata": {
    "collapsed": true
   },
   "outputs": [],
   "source": [
    "def get_vector(word):\n",
    "    table = str.maketrans({key: None for key in string.punctuation})\n",
    "    word = word.lower()\n",
    "    if len(word) > 1:\n",
    "        word = word.translate(table)\n",
    "    try:\n",
    "        vec = model[word]\n",
    "    except:\n",
    "        vec = np.zeros((50, 1))\n",
    "    return vec.reshape((50, 1))"
   ]
  },
  {
   "cell_type": "code",
   "execution_count": 9,
   "metadata": {},
   "outputs": [
    {
     "data": {
      "text/plain": [
       "(50, 1)"
      ]
     },
     "execution_count": 9,
     "metadata": {},
     "output_type": "execute_result"
    }
   ],
   "source": [
    "get_vector('20').shape"
   ]
  },
  {
   "cell_type": "code",
   "execution_count": 10,
   "metadata": {
    "collapsed": true
   },
   "outputs": [],
   "source": [
    "def get_average_vector(word_list):\n",
    "    sum = np.zeros((50, 1))\n",
    "    for i in range(0, len(word_list)):\n",
    "        sum += get_vector(word_list[i])\n",
    "    average_vector = sum/(i+1)\n",
    "    return average_vector"
   ]
  },
  {
   "cell_type": "code",
   "execution_count": 11,
   "metadata": {
    "collapsed": true
   },
   "outputs": [],
   "source": [
    "def calculate_docs_average():\n",
    "    doc_avg = []\n",
    "    for d in docs_file:\n",
    "        doc_avg.append(get_average_vector(docs_file[str(d)].split()))\n",
    "    return doc_avg"
   ]
  },
  {
   "cell_type": "code",
   "execution_count": 56,
   "metadata": {},
   "outputs": [],
   "source": [
    "def get_pair_features(feature_list):\n",
    "    \n",
    "    # distance features\n",
    "    mention_dist = np.array(feature_list[4]['mention_dist_count']).reshape((10, 1))\n",
    "    s_dist = np.array(feature_list[3]['sentence_dist_count']).reshape((10, 1))\n",
    "    overlap = np.array(feature_list[5]['overlap']).reshape((1, 1))\n",
    "    \n",
    "    # speaker feature\n",
    "    speaker = np.array(feature_list[6]['speaker']).reshape((1, 1))\n",
    "    \n",
    "    # string matching features\n",
    "    head_match = np.array(feature_list[7]['head_match']).reshape((1, 1))\n",
    "    mention_exact_match = np.array(feature_list[8]['mention_exact_match']).reshape((1, 1))\n",
    "    mention_partial_match = np.array(feature_list[9]['mention_partial_match']).reshape((1, 1))\n",
    "    \n",
    "    pair_features = np.concatenate((mention_dist, s_dist, overlap, speaker, head_match, \\\n",
    "                                   mention_exact_match, mention_partial_match))\n",
    "    \n",
    "    return pair_features"
   ]
  },
  {
   "cell_type": "code",
   "execution_count": 51,
   "metadata": {
    "collapsed": true
   },
   "outputs": [],
   "source": [
    "# p: previous, n: next, w: words, a: average, s: sentence\n",
    "def get_mention_features(mention, doc_average):\n",
    "    features = []\n",
    "    #head_w = get_vector(mention['head_word'])\n",
    "    first_w = get_vector(mention['first_word'])\n",
    "    last_w = get_vector(mention['last_word'])\n",
    "    mention_length = np.array(mention['mention_length']).reshape((1,1))\n",
    "    mention_type = np.array(mention['mention_type']).reshape((4, 1))\n",
    "    mention_position = np.array(mention['mention_position']).reshape((1, 1))\n",
    "    if mention['contained'] == False:\n",
    "        mention_contain = np.zeros((1, 1))\n",
    "    else:\n",
    "        mention_contain = np.ones((1, 1))\n",
    "    if len(mention['pre_words']) > 0:\n",
    "        mention_p_w1 = get_vector(mention['pre_words'][0])\n",
    "    else:\n",
    "        mention_p_w1 = np.zeros((50, 1))\n",
    "    if len(mention['pre_words']) > 1:\n",
    "        mention_p_w2 = get_vector(mention['pre_words'][1])\n",
    "    else:\n",
    "        mention_p_w2 = np.zeros((50, 1))\n",
    "    if len(mention['next_words']) > 0:\n",
    "        mention_n_w1 = get_vector(mention['next_words'][0])\n",
    "    else:\n",
    "        mention_n_w1 = np.zeros((50, 1))\n",
    "    if len(mention['next_words']) > 1:\n",
    "        mention_n_w2 = get_vector(mention['next_words'][1])\n",
    "    else:\n",
    "        mention_n_w2 = np.zeros((50, 1))\n",
    "    if len(mention['pre_words']) > 0:\n",
    "        mention_p_w_a = get_average_vector(mention['pre_words'])\n",
    "    else:\n",
    "        mention_p_w_a = np.zeros((50, 1))\n",
    "    if len(mention['next_words']) > 0:\n",
    "        mention_n_w_a = get_average_vector(mention['next_words'])\n",
    "    else:\n",
    "        mention_next_words_avg = np.zeros((50, 1))\n",
    "    mention_s_a = get_average_vector(mention['mention_sentence'].split())\n",
    "    doc_id = mention['id'].split('_')[0]\n",
    "    doc_avg = doc_average[int(doc_id)]\n",
    "    \n",
    "    \n",
    "    features = np.concatenate((first_w, last_w, mention_p_w1, mention_p_w2, mention_p_w_a, \\\n",
    "                               mention_n_w1, mention_n_w2, mention_n_w_a, mention_s_a, mention_length, \\\n",
    "                               mention_type, mention_position, mention_contain, doc_avg))\n",
    "    return features"
   ]
  },
  {
   "cell_type": "code",
   "execution_count": 52,
   "metadata": {
    "collapsed": true
   },
   "outputs": [],
   "source": [
    "def make_feature_input():\n",
    "    docs_avg = calculate_docs_average()\n",
    "    input_feature_list = []\n",
    "    i = 0\n",
    "    for m in train_file:\n",
    "        i += 1\n",
    "        input_feature_vector = []\n",
    "        mention_avg = get_average_vector(m[0]['mention'].split())\n",
    "        antecedent_avg = get_average_vector(m[1]['mention'].split())\n",
    "        mention_features = get_mention_features(m[0], docs_avg)\n",
    "        antecedent_features = get_mention_features(m[1], docs_avg)\n",
    "        pair_features = get_pair_features(m)\n",
    "        \n",
    "        input_feature_vector.append(antecedent_avg)\n",
    "        input_feature_vector.append(antecedent_features)\n",
    "        input_feature_vector.append(mention_avg)\n",
    "        input_feature_vector.append(mention_features)\n",
    "        input_feature_vector.append(pair_features)\n",
    "        input_feature_list.append(input_feature_vector)\n",
    "        \n",
    "    return input_feature_list\n"
   ]
  },
  {
   "cell_type": "code",
   "execution_count": 53,
   "metadata": {
    "collapsed": true
   },
   "outputs": [],
   "source": [
    "def make_input_vector():\n",
    "    feature_input = make_feature_input()\n",
    "    len_f_input = len(feature_input)\n",
    "    input_ = []\n",
    "    for f_input in feature_input:\n",
    "        con = np.concatenate((f_input[0], f_input[1], f_input[2], f_input[3], f_input[4]))\n",
    "        input_.append(con)\n",
    "        del con\n",
    "    return input_"
   ]
  },
  {
   "cell_type": "code",
   "execution_count": 54,
   "metadata": {
    "collapsed": true
   },
   "outputs": [],
   "source": [
    "def make_output_vector():\n",
    "    output = []\n",
    "    len_mentions = len(train_file)\n",
    "    for m in train_file:\n",
    "        output.append(m[2]['coref'])\n",
    "    output = np.array(output).reshape((len_mentions, 1))\n",
    "    return output    "
   ]
  },
  {
   "cell_type": "code",
   "execution_count": 62,
   "metadata": {},
   "outputs": [
    {
     "name": "stdout",
     "output_type": "stream",
     "text": [
      "CPU times: user 3.68 s, sys: 0 ns, total: 3.68 s\n",
      "Wall time: 3.68 s\n"
     ]
    }
   ],
   "source": [
    "%%time\n",
    "input_ = make_input_vector()"
   ]
  },
  {
   "cell_type": "code",
   "execution_count": 25,
   "metadata": {},
   "outputs": [
    {
     "data": {
      "text/plain": [
       "list"
      ]
     },
     "execution_count": 25,
     "metadata": {},
     "output_type": "execute_result"
    }
   ],
   "source": [
    "type(input_)"
   ]
  },
  {
   "cell_type": "code",
   "execution_count": 34,
   "metadata": {
    "collapsed": true
   },
   "outputs": [],
   "source": [
    "output_ = make_output_vector()"
   ]
  },
  {
   "cell_type": "code",
   "execution_count": 35,
   "metadata": {
    "collapsed": true
   },
   "outputs": [],
   "source": [
    "np.save('/home/vishesh/TUM/Thesis/coref-json/input_', input_, allow_pickle=True, fix_imports=True)"
   ]
  },
  {
   "cell_type": "code",
   "execution_count": 36,
   "metadata": {
    "collapsed": true
   },
   "outputs": [],
   "source": [
    "np.save('/home/vishesh/TUM/Thesis/coref-json/output_', output_, allow_pickle=True, fix_imports=True)"
   ]
  },
  {
   "cell_type": "code",
   "execution_count": null,
   "metadata": {
    "collapsed": true
   },
   "outputs": [],
   "source": []
  }
 ],
 "metadata": {
  "kernelspec": {
   "display_name": "Python 3",
   "language": "python",
   "name": "python3"
  },
  "language_info": {
   "codemirror_mode": {
    "name": "ipython",
    "version": 3
   },
   "file_extension": ".py",
   "mimetype": "text/x-python",
   "name": "python",
   "nbconvert_exporter": "python",
   "pygments_lexer": "ipython3",
   "version": "3.6.1"
  }
 },
 "nbformat": 4,
 "nbformat_minor": 2
}
