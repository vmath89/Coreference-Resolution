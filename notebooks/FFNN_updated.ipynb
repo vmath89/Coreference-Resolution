{
 "cells": [
  {
   "cell_type": "code",
   "execution_count": 1,
   "metadata": {
    "collapsed": true
   },
   "outputs": [],
   "source": [
    "import torch\n",
    "import torch.nn as nn\n",
    "import numpy as np\n",
    "import os\n",
    "import matplotlib.pyplot as plt\n",
    "from torch.autograd import Variable\n",
    "import torch.utils.data as data_utils"
   ]
  },
  {
   "cell_type": "code",
   "execution_count": 2,
   "metadata": {
    "collapsed": true
   },
   "outputs": [],
   "source": [
    "train_path = '/home/vishesh/TUM/Thesis/Coreference-Resolution/data/processed/new/'"
   ]
  },
  {
   "cell_type": "code",
   "execution_count": 3,
   "metadata": {
    "collapsed": true
   },
   "outputs": [],
   "source": [
    "#input_ = np.load('/home/vishesh/TUM/Thesis/Coreference-Resolution/data/processed/ffnn_input.npy')"
   ]
  },
  {
   "cell_type": "code",
   "execution_count": 4,
   "metadata": {
    "collapsed": true
   },
   "outputs": [],
   "source": [
    "#output_ = np.load('/home/vishesh/TUM/Thesis/Coreference-Resolution/data/processed/ffnn_output.npy')"
   ]
  },
  {
   "cell_type": "code",
   "execution_count": 5,
   "metadata": {
    "collapsed": true
   },
   "outputs": [],
   "source": [
    "input_dev = np.load('/home/vishesh/TUM/Thesis/Coreference-Resolution/data/processed/ffnn_input_dev.npy')"
   ]
  },
  {
   "cell_type": "code",
   "execution_count": 6,
   "metadata": {
    "collapsed": true
   },
   "outputs": [],
   "source": [
    "output_dev = np.load('/home/vishesh/TUM/Thesis/Coreference-Resolution/data/processed/ffnn_output_dev.npy')"
   ]
  },
  {
   "cell_type": "code",
   "execution_count": 7,
   "metadata": {
    "collapsed": true
   },
   "outputs": [],
   "source": [
    "list_of_train_files = []\n",
    "list_of_label_files = []\n",
    "for path, subdirs, files in os.walk(train_path):\n",
    "    for name in files:\n",
    "        if name.startswith(\"ffnn_train\"):\n",
    "            list_of_train_files.append(os.path.join(path, name))\n",
    "        if name.startswith(\"ffnn_labels\"):\n",
    "            list_of_label_files.append(os.path.join(path, name))\n",
    "list_of_train_files = sorted(list_of_train_files)\n",
    "list_of_label_files = sorted(list_of_label_files)\n",
    "        "
   ]
  },
  {
   "cell_type": "code",
   "execution_count": 8,
   "metadata": {},
   "outputs": [
    {
     "data": {
      "text/plain": [
       "100"
      ]
     },
     "execution_count": 8,
     "metadata": {},
     "output_type": "execute_result"
    }
   ],
   "source": [
    "len(list_of_train_files)"
   ]
  },
  {
   "cell_type": "code",
   "execution_count": 9,
   "metadata": {},
   "outputs": [
    {
     "data": {
      "text/plain": [
       "100"
      ]
     },
     "execution_count": 9,
     "metadata": {},
     "output_type": "execute_result"
    }
   ],
   "source": [
    "len(list_of_label_files)"
   ]
  },
  {
   "cell_type": "code",
   "execution_count": 10,
   "metadata": {
    "collapsed": true
   },
   "outputs": [],
   "source": [
    "inp = np.load(list_of_train_files[0])"
   ]
  },
  {
   "cell_type": "code",
   "execution_count": 11,
   "metadata": {},
   "outputs": [
    {
     "data": {
      "text/plain": [
       "(1237, 1)"
      ]
     },
     "execution_count": 11,
     "metadata": {},
     "output_type": "execute_result"
    }
   ],
   "source": [
    "inp[0].shape"
   ]
  },
  {
   "cell_type": "code",
   "execution_count": 12,
   "metadata": {},
   "outputs": [
    {
     "data": {
      "text/plain": [
       "(1237, 1)"
      ]
     },
     "execution_count": 12,
     "metadata": {},
     "output_type": "execute_result"
    }
   ],
   "source": [
    "input_dev[0].shape"
   ]
  },
  {
   "cell_type": "code",
   "execution_count": 13,
   "metadata": {
    "collapsed": true
   },
   "outputs": [],
   "source": [
    "INPUT_DIM = 1237\n",
    "HIDDEN_DIM1 = 1000\n",
    "HIDDEN_DIM2 = 500\n",
    "HIDDEN_DIM3 = 500\n",
    "OUTPUT_DIM = 2\n",
    "BATCH_SIZE = 32\n",
    "NUM_EPOCHS = 1"
   ]
  },
  {
   "cell_type": "code",
   "execution_count": 14,
   "metadata": {
    "collapsed": true
   },
   "outputs": [],
   "source": [
    "def dataLoader(start_index, batch_size, inputs, labels, input_dim):\n",
    "    '''\n",
    "    This function provides the data to the network in batches from the starting position start_index.\n",
    "    Args: \n",
    "       start_index (int): Position to start the batch from the dataset.\n",
    "       batch_size (int): Batch size.\n",
    "       inputs: The inputs to the model.\n",
    "       labels: The expected outputs from the model.\n",
    "    \n",
    "    Returns: \n",
    "        train_tensor(torch tensor): Tensor of batch size.\n",
    "        label_tensor(torch tensor): Tensor of batch size.\n",
    "    '''\n",
    "    \n",
    "    inputs_tensor_list = []\n",
    "    labels_tensor_list = []\n",
    "    \n",
    "    if len(inputs[start_index:]) < batch_size:\n",
    "        batch_size = len(inputs[start_index:])\n",
    "    \n",
    "    for pos in range(start_index, start_index + batch_size):\n",
    "        inputs_tensor_list.append((torch.from_numpy(inputs[pos].reshape(input_dim))).float())\n",
    "        labels_tensor_list.append(torch.from_numpy(labels[pos]))\n",
    "        \n",
    "    inputs_tensor = torch.Tensor(batch_size, input_dim)\n",
    "    labels_tensor = torch.LongTensor(batch_size, 1)\n",
    "    torch.cat(inputs_tensor_list, out = inputs_tensor)\n",
    "    torch.cat(labels_tensor_list, out = labels_tensor)\n",
    "    inputs_tensor = inputs_tensor.view(batch_size, 1237)\n",
    "    \n",
    "    return inputs_tensor, labels_tensor"
   ]
  },
  {
   "cell_type": "code",
   "execution_count": 20,
   "metadata": {
    "collapsed": true
   },
   "outputs": [],
   "source": [
    "def computeF1(model, dev_input, dev_label):\n",
    "    '''\n",
    "    This function computes the F1 score of the model.\n",
    "    \n",
    "    Args:\n",
    "        model: The model which is being used to compute the F1 score.\n",
    "        inputs: The inputs to the model.\n",
    "        labels: The expected outputs from the model.\n",
    "    \n",
    "    Returns:\n",
    "        tp(int):        True Positives.\n",
    "        fp(int):        False Positives.\n",
    "        fn(int):        False Negaitves.\n",
    "        precision(int): The Precision of the F1 score.\n",
    "        recall(int):    The recall of the F1 score. \n",
    "        f1(int):        The computed F1 score.\n",
    "        \n",
    "    '''\n",
    "    tp = 0\n",
    "    fp = 0\n",
    "    fn = 0\n",
    "    for j in range(0, len(dev_input), BATCH_SIZE):\n",
    "        inputs, labels = dataLoader(j, BATCH_SIZE, dev_input, dev_label, INPUT_DIM)\n",
    "        inputs = Variable(inputs)\n",
    "        outputs = model(inputs)\n",
    "        _, predicted = torch.max(outputs.data, 1)\n",
    "\n",
    "        for l, p in zip(labels, predicted):\n",
    "            if l == 1 and p == 1:\n",
    "                tp += 1\n",
    "            if l == 0 and p == 1:\n",
    "                fp += 1\n",
    "            if l == 1 and p == 0:\n",
    "                fn += 1\n",
    "    \n",
    "    if tp == 0 and fp == 0:\n",
    "        precision = 0\n",
    "    else:\n",
    "        precision = tp / (tp + fp)\n",
    "    if tp == 0 and fn == 0:\n",
    "        recall = 0\n",
    "    else:\n",
    "        recall = tp / (tp + fn)\n",
    "    if precision == 0 and recall == 0:\n",
    "        f1 = 0\n",
    "    else:\n",
    "        f1 = (2 * precision * recall) / (precision + recall)\n",
    "        \n",
    "    return tp, fp, fn, precision, recall, f1"
   ]
  },
  {
   "cell_type": "code",
   "execution_count": 21,
   "metadata": {
    "collapsed": true
   },
   "outputs": [],
   "source": [
    "class FFNN(nn.Module):\n",
    "    def __init__(self, input_dim, hidden_dim1, hidden_dim2, hidden_dim3, output_dim):\n",
    "        super(FFNN, self).__init__()\n",
    "\n",
    "        self.fc1 = nn.Linear(input_dim, hidden_dim1)\n",
    "        self.relu1 = nn.ReLU()\n",
    "\n",
    "        self.fc2 = nn.Linear(hidden_dim1, hidden_dim2)\n",
    "        self.relu2 = nn.ReLU()\n",
    "\n",
    "        self.fc3 = nn.Linear(hidden_dim2, hidden_dim3)\n",
    "        self.relu3 = nn.ReLU()\n",
    "\n",
    "        self.fc4 = nn.Linear(hidden_dim2, output_dim)\n",
    "    \n",
    "    def forward(self, x):\n",
    "        #x = x.view(-1, 1337)\n",
    "        out = self.fc1(x)\n",
    "        out = self.relu1(out)\n",
    "        out = self.fc2(out)\n",
    "        out = self.relu2(out)\n",
    "        out = self.fc3(out)\n",
    "        out = self.relu3(out)\n",
    "        out = self.fc4(out)\n",
    "        \n",
    "        return out"
   ]
  },
  {
   "cell_type": "code",
   "execution_count": 43,
   "metadata": {
    "collapsed": true
   },
   "outputs": [],
   "source": [
    "model = FFNN(INPUT_DIM, HIDDEN_DIM1, HIDDEN_DIM2, HIDDEN_DIM3, OUTPUT_DIM)"
   ]
  },
  {
   "cell_type": "code",
   "execution_count": 44,
   "metadata": {
    "collapsed": true
   },
   "outputs": [],
   "source": [
    "LEARNING_RATE = 1e-1\n",
    "WEIGHT_DECAY = 1e-4\n",
    "optimizer = torch.optim.SGD(model.parameters(), lr = LEARNING_RATE)\n",
    "\n",
    "# Loss Function\n",
    "criterion = nn.CrossEntropyLoss()"
   ]
  },
  {
   "cell_type": "code",
   "execution_count": 46,
   "metadata": {
    "scrolled": true
   },
   "outputs": [
    {
     "name": "stdout",
     "output_type": "stream",
     "text": [
      "Epoch: 0\n",
      "F1: 0.21151057640762452\n",
      "model saved!\n"
     ]
    },
    {
     "name": "stderr",
     "output_type": "stream",
     "text": [
      "/home/vishesh/anaconda3/lib/python3.6/site-packages/torch/serialization.py:147: UserWarning: Couldn't retrieve source code for container of type FFNN. It won't be checked for correctness upon loading.\n",
      "  \"type \" + obj.__name__ + \". It won't be checked \"\n"
     ]
    },
    {
     "name": "stdout",
     "output_type": "stream",
     "text": [
      "Epoch: 0\n",
      "F1: 0.5268966040311724\n",
      "model saved!\n",
      "Epoch: 0\n",
      "F1: 0.31060929175746205\n",
      "Epoch: 0\n",
      "F1: 0.6665723281565076\n",
      "model saved!\n",
      "Epoch: 0\n",
      "F1: 0.5985920517516112\n",
      "Epoch: 0\n",
      "F1: 0.5088947661469932\n",
      "Epoch: 0\n",
      "F1: 0.5611987128413225\n",
      "Epoch: 0\n",
      "F1: 0.5547043584178862\n",
      "Epoch: 0\n",
      "F1: 0.28232068674406746\n",
      "Epoch: 0\n",
      "F1: 0.5929797992134639\n",
      "Epoch: 0\n",
      "F1: 0.06841376080551057\n",
      "Epoch: 0\n",
      "F1: 0.5976347584492497\n",
      "Epoch: 0\n",
      "F1: 0.5839078901088656\n",
      "Epoch: 0\n",
      "F1: 0.5088513791683821\n",
      "Epoch: 0\n",
      "F1: 0.615568233356408\n",
      "Epoch: 0\n",
      "F1: 0.5602112115073855\n",
      "Epoch: 0\n",
      "F1: 0.6087022721948934\n",
      "Epoch: 0\n",
      "F1: 0.6731854636459154\n",
      "model saved!\n",
      "Epoch: 0\n",
      "F1: 0.6248185571552022\n",
      "Epoch: 0\n",
      "F1: 0.6106425432422177\n",
      "Epoch: 0\n",
      "F1: 0.6592194508852147\n",
      "Epoch: 0\n",
      "F1: 0.6765512803143205\n",
      "model saved!\n",
      "Epoch: 0\n",
      "F1: 0.5043907609534224\n",
      "Epoch: 0\n",
      "F1: 0.6765930871110155\n",
      "model saved!\n",
      "Epoch: 0\n",
      "F1: 0.6951924612681679\n",
      "model saved!\n",
      "Epoch: 0\n",
      "F1: 0.2608761596602543\n",
      "Epoch: 0\n",
      "F1: 0.43623889937638183\n",
      "Epoch: 0\n",
      "F1: 0.2534612561244174\n",
      "Epoch: 0\n",
      "F1: 0.5885563363123373\n",
      "Epoch: 0\n",
      "F1: 0.5973325523788605\n",
      "Epoch: 0\n",
      "F1: 0.614025751789478\n",
      "Epoch: 0\n",
      "F1: 0.6713744188818691\n",
      "Epoch: 0\n",
      "F1: 0.41955485837748246\n",
      "Epoch: 0\n",
      "F1: 0.6391637803067788\n",
      "Epoch: 0\n",
      "F1: 0.696067677687235\n",
      "model saved!\n",
      "Epoch: 0\n",
      "F1: 0.6440028783011224\n",
      "Epoch: 0\n",
      "F1: 0.40903175429463823\n",
      "Epoch: 0\n",
      "F1: 0.6355879893273865\n",
      "Epoch: 0\n",
      "F1: 0.6138242242204482\n",
      "Epoch: 0\n",
      "F1: 0.5926400970126628\n",
      "Epoch: 0\n",
      "F1: 0.7032527091682779\n",
      "model saved!\n",
      "Epoch: 0\n",
      "F1: 0.4376409973866623\n",
      "Epoch: 0\n",
      "F1: 0.6347879327618835\n",
      "Epoch: 0\n",
      "F1: 0.6512387961128409\n",
      "Epoch: 0\n",
      "F1: 0.5304918631813851\n",
      "Epoch: 0\n",
      "F1: 0.6435840137516116\n",
      "Epoch: 0\n",
      "F1: 0.6830801615747852\n",
      "Epoch: 0\n",
      "F1: 0.488347391440175\n",
      "Epoch: 0\n",
      "F1: 0.7164350605048657\n",
      "model saved!\n",
      "Epoch: 0\n",
      "F1: 0.59623781144078\n",
      "Epoch: 0\n",
      "F1: 0.6209217192806638\n",
      "Epoch: 0\n",
      "F1: 0.7057558656480794\n",
      "Epoch: 0\n",
      "F1: 0.5690065180694684\n",
      "Epoch: 0\n",
      "F1: 0.6584452670544686\n",
      "Epoch: 0\n",
      "F1: 0.5511971337537513\n",
      "Epoch: 0\n",
      "F1: 0.6175115701062736\n",
      "Epoch: 0\n",
      "F1: 0.6889872169162939\n",
      "Epoch: 0\n",
      "F1: 0.6794475086228939\n",
      "Epoch: 0\n",
      "F1: 0.5789417624761128\n",
      "Epoch: 0\n",
      "F1: 0.7147890898017777\n",
      "Epoch: 0\n",
      "F1: 0.6717463904679717\n",
      "Epoch: 0\n",
      "F1: 0.5589471326755109\n",
      "Epoch: 0\n",
      "F1: 0.6437951296371565\n",
      "Epoch: 0\n",
      "F1: 0.7154178256191375\n",
      "Epoch: 0\n",
      "F1: 0.6762762951581147\n",
      "Epoch: 0\n",
      "F1: 0.6800785921749529\n",
      "Epoch: 0\n",
      "F1: 0.6904145954951173\n",
      "Epoch: 0\n",
      "F1: 0.6082229177943564\n",
      "Epoch: 0\n",
      "F1: 0.6647027347368542\n",
      "Epoch: 0\n",
      "F1: 0.7004081130591785\n",
      "Epoch: 0\n",
      "F1: 0.6864569186255617\n",
      "Epoch: 0\n",
      "F1: 0.7136336033643021\n",
      "Epoch: 0\n",
      "F1: 0.7147786865201208\n",
      "Epoch: 0\n",
      "F1: 0.6626311670473239\n",
      "Epoch: 0\n",
      "F1: 0.6940123920656751\n",
      "Epoch: 0\n",
      "F1: 0.6792148372074023\n",
      "Epoch: 0\n",
      "F1: 0.6601819264984906\n",
      "Epoch: 0\n",
      "F1: 0.7212832080200501\n",
      "model saved!\n",
      "Epoch: 0\n",
      "F1: 0.5892219383848222\n",
      "Epoch: 0\n",
      "F1: 0.6911032189472255\n",
      "Epoch: 0\n",
      "F1: 0.6655286984917165\n",
      "Epoch: 0\n",
      "F1: 0.6870277913793182\n",
      "Epoch: 0\n",
      "F1: 0.7245782386627457\n",
      "model saved!\n",
      "Epoch: 0\n",
      "F1: 0.6916007958689139\n",
      "Epoch: 0\n",
      "F1: 0.6791696180460961\n",
      "Epoch: 0\n",
      "F1: 0.6467661691542289\n",
      "Epoch: 0\n",
      "F1: 0.5350715010857945\n",
      "Epoch: 0\n",
      "F1: 0.7152089433960664\n",
      "Epoch: 0\n",
      "F1: 0.7052550655703066\n",
      "Epoch: 0\n",
      "F1: 0.6954011963516507\n",
      "Epoch: 0\n",
      "F1: 0.6161693004599053\n",
      "Epoch: 0\n",
      "F1: 0.7265657435970696\n",
      "model saved!\n",
      "Epoch: 0\n",
      "F1: 0.6644270008937128\n",
      "Epoch: 0\n",
      "F1: 0.7086456493623885\n",
      "Epoch: 0\n",
      "F1: 0.6942701291435498\n",
      "Epoch: 0\n",
      "F1: 0.6995049337658826\n",
      "Epoch: 0\n",
      "F1: 0.6426060190520648\n",
      "Epoch: 0\n",
      "F1: 0.6625846744195153\n",
      "Epoch: 0\n",
      "F1: 0.6017063755501464\n",
      "Epoch: 0\n",
      "F1: 0.6937536057061939\n",
      "Epoch: 0\n",
      "F1: 0.6283945326596897\n",
      "Epoch: 0\n",
      "F1: 0.6617800600882146\n",
      "Epoch: 0\n",
      "F1: 0.5954297714885745\n",
      "Epoch: 0\n",
      "F1: 0.6972883591739667\n",
      "Epoch: 0\n",
      "F1: 0.6104670751338334\n",
      "Epoch: 0\n",
      "F1: 0.5778110850897736\n",
      "Epoch: 0\n",
      "F1: 0.6089023864863284\n",
      "Epoch: 0\n",
      "F1: 0.6704208210457333\n",
      "Epoch: 0\n",
      "F1: 0.2672489816486793\n",
      "Epoch: 0\n",
      "F1: 0.5624691265389835\n",
      "Epoch: 0\n",
      "F1: 0.6703985568521338\n",
      "Epoch: 0\n",
      "F1: 0.3561238308191352\n",
      "Epoch: 0\n",
      "F1: 0.5742993447943483\n",
      "Epoch: 0\n",
      "F1: 0.37922679709859625\n",
      "Epoch: 0\n",
      "F1: 0.4063178737806703\n",
      "Epoch: 0\n",
      "F1: 0.6820381696197868\n",
      "Epoch: 0\n",
      "F1: 0.6364597544338336\n",
      "Epoch: 0\n",
      "F1: 0.5240160998871443\n",
      "Epoch: 0\n",
      "F1: 0.6092661731016694\n",
      "Epoch: 0\n",
      "F1: 0.6763473142891115\n",
      "Epoch: 0\n",
      "F1: 0.5787875019983303\n",
      "Epoch: 0\n",
      "F1: 0.5190330755734616\n",
      "Epoch: 0\n",
      "F1: 0.6040153337861329\n",
      "Epoch: 0\n",
      "F1: 0.5705469452289724\n",
      "Epoch: 0\n",
      "F1: 0.6339760750957335\n",
      "Epoch: 0\n",
      "F1: 0.3378371926474099\n",
      "Epoch: 0\n",
      "F1: 0.48950511832399723\n",
      "Epoch: 0\n",
      "F1: 0.67298977114673\n",
      "Epoch: 0\n",
      "F1: 0.5748610572573349\n",
      "Epoch: 0\n",
      "F1: 0.6918815045352243\n",
      "Epoch: 0\n",
      "F1: 0.37320574162679426\n",
      "Epoch: 0\n",
      "F1: 0.5009484438979082\n",
      "Epoch: 0\n",
      "F1: 0.551453641179087\n",
      "Epoch: 0\n",
      "F1: 0.6916957914664336\n",
      "Epoch: 0\n",
      "F1: 0.6885045567522784\n",
      "Epoch: 0\n",
      "F1: 0.701162706723478\n",
      "Epoch: 0\n",
      "F1: 0.3127190628058985\n",
      "Epoch: 0\n",
      "F1: 0.6638423600878116\n",
      "Epoch: 0\n",
      "F1: 0.5460825043723896\n",
      "Epoch: 0\n",
      "F1: 0.6686204203649433\n",
      "Epoch: 0\n",
      "F1: 0.47802519306322694\n",
      "Epoch: 0\n",
      "F1: 0.680847699535205\n",
      "Epoch: 0\n",
      "F1: 0.5716940689620993\n",
      "Epoch: 0\n",
      "F1: 0.6909511325332595\n",
      "Epoch: 0\n",
      "F1: 0.7026170285213952\n",
      "Epoch: 0\n",
      "F1: 0.7315546919761851\n",
      "model saved!\n",
      "Epoch: 0\n",
      "F1: 0.5238824962031551\n",
      "Epoch: 0\n",
      "F1: 0.6712173133942345\n",
      "Epoch: 0\n",
      "F1: 0.6269811392812523\n",
      "Epoch: 0\n",
      "F1: 0.7252804569024345\n",
      "Epoch: 0\n",
      "F1: 0.6420213176797713\n",
      "Epoch: 0\n",
      "F1: 0.5415958587152605\n",
      "Epoch: 0\n",
      "F1: 0.6104654395818274\n",
      "Epoch: 0\n",
      "F1: 0.5051146815457402\n",
      "Epoch: 0\n",
      "F1: 0.6331165334998815\n",
      "Epoch: 0\n",
      "F1: 0.7187987600640773\n",
      "Epoch: 0\n",
      "F1: 0.7271502197630575\n",
      "Epoch: 0\n",
      "F1: 0.6693333955310911\n",
      "Epoch: 0\n",
      "F1: 0.6997424910177203\n",
      "Epoch: 0\n",
      "F1: 0.6532682036404953\n",
      "Epoch: 0\n",
      "F1: 0.6861416364591405\n",
      "Epoch: 0\n",
      "F1: 0.6051573892939712\n",
      "Epoch: 0\n",
      "F1: 0.6698453754142119\n",
      "Epoch: 0\n",
      "F1: 0.72035575002378\n"
     ]
    }
   ],
   "source": [
    "iterations = 0\n",
    "bestF1 = 0\n",
    "for epoch in range (1):\n",
    "    for t, l in zip(list_of_train_files, list_of_label_files):\n",
    "        input_ = np.load(t)\n",
    "        output_ = np.load(l)\n",
    "        for i in range(0, len(input_), BATCH_SIZE):\n",
    "            inputs, labels = dataLoader(i, BATCH_SIZE, input_, output_, INPUT_DIM)\n",
    "            inputs , labels = Variable(inputs), Variable(labels)\n",
    "            optimizer.zero_grad()\n",
    "            outputs = model(inputs)   \n",
    "            loss = criterion(outputs, labels)        \n",
    "            loss.backward()\n",
    "            optimizer.step()\n",
    "            iterations += 1\n",
    "\n",
    "            if iterations % 500 == 0:\n",
    "                tp, fp, fn, precision, recall, f1_ = computeF1(model, input_dev, output_dev)\n",
    "                print ('Epoch: ' + str(epoch))\n",
    "                #print ('Iteration: ' + str(iterations))\n",
    "                #print ('True Positives: ' + str(tp))\n",
    "                #print ('False Positives: ' + str(fp))\n",
    "                #print ('False Negatives: ' + str(fn))\n",
    "                print ('F1: ' + str(f1_))\n",
    "                if f1_ > bestF1:\n",
    "                    bestF1 = f1_\n",
    "                    torch.save(model, '/home/vishesh/TUM/Thesis/Coreference-Resolution/models/bestModel.pt')\n",
    "                    print ('model saved!')"
   ]
  },
  {
   "cell_type": "code",
   "execution_count": 47,
   "metadata": {
    "collapsed": true
   },
   "outputs": [],
   "source": [
    "loadedModel = torch.load('/home/vishesh/TUM/Thesis/Coreference-Resolution/models/bestModel.pt')"
   ]
  },
  {
   "cell_type": "code",
   "execution_count": 48,
   "metadata": {
    "scrolled": true
   },
   "outputs": [],
   "source": [
    "tp, fp, fn, precision, recall, f1 = computeF1(loadedModel, input_dev, output_dev)"
   ]
  },
  {
   "cell_type": "code",
   "execution_count": 49,
   "metadata": {},
   "outputs": [
    {
     "data": {
      "text/plain": [
       "0.7315546919761851"
      ]
     },
     "execution_count": 49,
     "metadata": {},
     "output_type": "execute_result"
    }
   ],
   "source": [
    "f1"
   ]
  },
  {
   "cell_type": "markdown",
   "metadata": {},
   "source": [
    "## Checking on real leife inputs"
   ]
  },
  {
   "cell_type": "code",
   "execution_count": null,
   "metadata": {
    "collapsed": true
   },
   "outputs": [],
   "source": []
  }
 ],
 "metadata": {
  "kernelspec": {
   "display_name": "Python 3",
   "language": "python",
   "name": "python3"
  },
  "language_info": {
   "codemirror_mode": {
    "name": "ipython",
    "version": 3
   },
   "file_extension": ".py",
   "mimetype": "text/x-python",
   "name": "python",
   "nbconvert_exporter": "python",
   "pygments_lexer": "ipython3",
   "version": "3.6.1"
  }
 },
 "nbformat": 4,
 "nbformat_minor": 2
}
