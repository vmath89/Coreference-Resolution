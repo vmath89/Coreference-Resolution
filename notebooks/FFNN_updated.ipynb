{
 "cells": [
  {
   "cell_type": "code",
   "execution_count": 9,
   "metadata": {
    "collapsed": true
   },
   "outputs": [],
   "source": [
    "import torch\n",
    "import torch.nn as nn\n",
    "import numpy as np\n",
    "import os\n",
    "import matplotlib.pyplot as plt\n",
    "from torch.autograd import Variable\n",
    "import torch.utils.data as data_utils"
   ]
  },
  {
   "cell_type": "code",
   "execution_count": 10,
   "metadata": {
    "collapsed": true
   },
   "outputs": [],
   "source": [
    "train_path = '/home/vishesh/TUM/Thesis/Coreference-Resolution/data/processed/new/'"
   ]
  },
  {
   "cell_type": "code",
   "execution_count": 11,
   "metadata": {
    "collapsed": true
   },
   "outputs": [],
   "source": [
    "#input_ = np.load('/home/vishesh/TUM/Thesis/Coreference-Resolution/data/processed/ffnn_input.npy')"
   ]
  },
  {
   "cell_type": "code",
   "execution_count": 12,
   "metadata": {
    "collapsed": true
   },
   "outputs": [],
   "source": [
    "#output_ = np.load('/home/vishesh/TUM/Thesis/Coreference-Resolution/data/processed/ffnn_output.npy')"
   ]
  },
  {
   "cell_type": "code",
   "execution_count": 13,
   "metadata": {
    "collapsed": true
   },
   "outputs": [],
   "source": [
    "input_dev = np.load('/home/vishesh/TUM/Thesis/Coreference-Resolution/data/processed/ffnn_input_dev.npy')"
   ]
  },
  {
   "cell_type": "code",
   "execution_count": 14,
   "metadata": {
    "collapsed": true
   },
   "outputs": [],
   "source": [
    "output_dev = np.load('/home/vishesh/TUM/Thesis/Coreference-Resolution/data/processed/ffnn_output_dev.npy')"
   ]
  },
  {
   "cell_type": "code",
   "execution_count": 15,
   "metadata": {
    "collapsed": true
   },
   "outputs": [],
   "source": [
    "list_of_train_files = []\n",
    "list_of_label_files = []\n",
    "for path, subdirs, files in os.walk(train_path):\n",
    "    for name in files:\n",
    "        if name.startswith(\"ffnn_train\"):\n",
    "            list_of_train_files.append(os.path.join(path, name))\n",
    "        if name.startswith(\"ffnn_labels\"):\n",
    "            list_of_label_files.append(os.path.join(path, name))\n",
    "list_of_train_files = sorted(list_of_train_files)\n",
    "list_of_label_files = sorted(list_of_label_files)\n",
    "        "
   ]
  },
  {
   "cell_type": "code",
   "execution_count": 16,
   "metadata": {},
   "outputs": [
    {
     "data": {
      "text/plain": [
       "0"
      ]
     },
     "execution_count": 16,
     "metadata": {},
     "output_type": "execute_result"
    }
   ],
   "source": [
    "len(list_of_train_files)"
   ]
  },
  {
   "cell_type": "code",
   "execution_count": 17,
   "metadata": {},
   "outputs": [
    {
     "data": {
      "text/plain": [
       "0"
      ]
     },
     "execution_count": 17,
     "metadata": {},
     "output_type": "execute_result"
    }
   ],
   "source": [
    "len(list_of_label_files)"
   ]
  },
  {
   "cell_type": "code",
   "execution_count": 11,
   "metadata": {
    "collapsed": true
   },
   "outputs": [],
   "source": [
    "inp = np.load(list_of_train_files[0])"
   ]
  },
  {
   "cell_type": "code",
   "execution_count": 12,
   "metadata": {},
   "outputs": [
    {
     "data": {
      "text/plain": [
       "(1237, 1)"
      ]
     },
     "execution_count": 12,
     "metadata": {},
     "output_type": "execute_result"
    }
   ],
   "source": [
    "inp[0].shape"
   ]
  },
  {
   "cell_type": "code",
   "execution_count": 13,
   "metadata": {},
   "outputs": [
    {
     "data": {
      "text/plain": [
       "(1237, 1)"
      ]
     },
     "execution_count": 13,
     "metadata": {},
     "output_type": "execute_result"
    }
   ],
   "source": [
    "input_dev[0].shape"
   ]
  },
  {
   "cell_type": "code",
   "execution_count": 2,
   "metadata": {
    "collapsed": true
   },
   "outputs": [],
   "source": [
    "INPUT_DIM = 1237\n",
    "HIDDEN_DIM1 = 500\n",
    "HIDDEN_DIM2 = 250\n",
    "HIDDEN_DIM3 = 250\n",
    "OUTPUT_DIM = 2\n",
    "BATCH_SIZE = 32\n",
    "NUM_EPOCHS = 1"
   ]
  },
  {
   "cell_type": "code",
   "execution_count": 3,
   "metadata": {
    "collapsed": true
   },
   "outputs": [],
   "source": [
    "def dataLoader(start_index, batch_size, inputs, labels, input_dim):\n",
    "    '''\n",
    "    This function provides the data to the network in batches from the starting position start_index.\n",
    "    Args: \n",
    "       start_index (int): Position to start the batch from the dataset.\n",
    "       batch_size (int): Batch size.\n",
    "       inputs: The inputs to the model.\n",
    "       labels: The expected outputs from the model.\n",
    "    \n",
    "    Returns: \n",
    "        train_tensor(torch tensor): Tensor of batch size.\n",
    "        label_tensor(torch tensor): Tensor of batch size.\n",
    "    '''\n",
    "    \n",
    "    inputs_tensor_list = []\n",
    "    labels_tensor_list = []\n",
    "    \n",
    "    if len(inputs[start_index:]) < batch_size:\n",
    "        batch_size = len(inputs[start_index:])\n",
    "    \n",
    "    for pos in range(start_index, start_index + batch_size):\n",
    "        inputs_tensor_list.append((torch.from_numpy(inputs[pos].reshape(input_dim))).float())\n",
    "        labels_tensor_list.append(torch.from_numpy(labels[pos]))\n",
    "        \n",
    "    inputs_tensor = torch.Tensor(batch_size, input_dim)\n",
    "    labels_tensor = torch.LongTensor(batch_size, 1)\n",
    "    torch.cat(inputs_tensor_list, out = inputs_tensor)\n",
    "    torch.cat(labels_tensor_list, out = labels_tensor)\n",
    "    inputs_tensor = inputs_tensor.view(batch_size, 1237)\n",
    "    \n",
    "    return inputs_tensor, labels_tensor"
   ]
  },
  {
   "cell_type": "code",
   "execution_count": 8,
   "metadata": {
    "collapsed": true
   },
   "outputs": [],
   "source": [
    "def computeF1(model, dev_input, dev_label):\n",
    "    '''\n",
    "    This function computes the F1 score of the model.\n",
    "    \n",
    "    Args:\n",
    "        model: The model which is being used to compute the F1 score.\n",
    "        inputs: The inputs to the model.\n",
    "        labels: The expected outputs from the model.\n",
    "    \n",
    "    Returns:\n",
    "        tp(int):        True Positives.\n",
    "        fp(int):        False Positives.\n",
    "        fn(int):        False Negaitves.\n",
    "        precision(int): The Precision of the F1 score.\n",
    "        recall(int):    The recall of the F1 score. \n",
    "        f1(int):        The computed F1 score.\n",
    "        \n",
    "    '''\n",
    "    tp = 0\n",
    "    fp = 0\n",
    "    fn = 0\n",
    "    for j in range(0, len(dev_input), BATCH_SIZE):\n",
    "        inputs, labels = dataLoader(j, BATCH_SIZE, dev_input, dev_label, INPUT_DIM)\n",
    "        \n",
    "        #### GPU ####\n",
    "        if torch.cuda.is_available():\n",
    "            inputs = Variable(inputs.cuda())\n",
    "        else:\n",
    "            inputs = Variable(inputs)\n",
    "        outputs = model(inputs)\n",
    "        _, predicted = torch.max(outputs.data, 1)\n",
    "        ##### GPU #####\n",
    "        if torch.cuda.is_available():\n",
    "            predicted = predicted.cpu()\n",
    "            \n",
    "        for l, p in zip(labels, predicted):\n",
    "            if l == 1 and p == 1:\n",
    "                tp += 1\n",
    "            if l == 0 and p == 1:\n",
    "                fp += 1\n",
    "            if l == 1 and p == 0:\n",
    "                fn += 1\n",
    "    \n",
    "    if tp == 0 and fp == 0:\n",
    "        precision = 0\n",
    "    else:\n",
    "        precision = tp / (tp + fp)\n",
    "    if tp == 0 and fn == 0:\n",
    "        recall = 0\n",
    "    else:\n",
    "        recall = tp / (tp + fn)\n",
    "    if precision == 0 and recall == 0:\n",
    "        f1 = 0\n",
    "    else:\n",
    "        f1 = (2 * precision * recall) / (precision + recall)\n",
    "        \n",
    "    return tp, fp, fn, precision, recall, f1"
   ]
  },
  {
   "cell_type": "code",
   "execution_count": 5,
   "metadata": {
    "collapsed": true
   },
   "outputs": [],
   "source": [
    "class FFNN(nn.Module):\n",
    "    def __init__(self, input_dim, hidden_dim1, hidden_dim2, hidden_dim3, output_dim):\n",
    "        super(FFNN, self).__init__()\n",
    "\n",
    "        self.fc1 = nn.Linear(input_dim, hidden_dim1)\n",
    "        self.relu1 = nn.ReLU()\n",
    "\n",
    "        self.fc2 = nn.Linear(hidden_dim1, hidden_dim2)\n",
    "        self.relu2 = nn.ReLU()\n",
    "\n",
    "        self.fc3 = nn.Linear(hidden_dim2, hidden_dim3)\n",
    "        self.relu3 = nn.ReLU()\n",
    "\n",
    "        self.fc4 = nn.Linear(hidden_dim2, output_dim)\n",
    "    \n",
    "    def forward(self, x):\n",
    "        #x = x.view(-1, 1337)\n",
    "        out = self.fc1(x)\n",
    "        out = self.relu1(out)\n",
    "        out = self.fc2(out)\n",
    "        out = self.relu2(out)\n",
    "        out = self.fc3(out)\n",
    "        out = self.relu3(out)\n",
    "        out = self.fc4(out)\n",
    "        \n",
    "        return out"
   ]
  },
  {
   "cell_type": "code",
   "execution_count": 7,
   "metadata": {
    "collapsed": true
   },
   "outputs": [],
   "source": [
    "model = FFNN(INPUT_DIM, HIDDEN_DIM1, HIDDEN_DIM2, HIDDEN_DIM3, OUTPUT_DIM)\n",
    "###### For GPU ######\n",
    "if torch.cuda.is_available():\n",
    "    model.cuda()"
   ]
  },
  {
   "cell_type": "code",
   "execution_count": 36,
   "metadata": {
    "collapsed": true
   },
   "outputs": [],
   "source": [
    "LEARNING_RATE = 1e-1\n",
    "WEIGHT_DECAY = 1e-4\n",
    "optimizer = torch.optim.SGD(model.parameters(), lr = LEARNING_RATE)\n",
    "\n",
    "# Loss Function\n",
    "criterion = nn.CrossEntropyLoss()"
   ]
  },
  {
   "cell_type": "code",
   "execution_count": 37,
   "metadata": {
    "scrolled": true
   },
   "outputs": [
    {
     "name": "stdout",
     "output_type": "stream",
     "text": [
      "Epoch: 0\n",
      "Iteration: 500\n",
      "True Positives: 0\n",
      "False Positives: 0\n",
      "False Negatives: 98794\n",
      "F1: 0\n",
      "Epoch: 0\n",
      "Iteration: 1000\n",
      "True Positives: 0\n",
      "False Positives: 0\n",
      "False Negatives: 98794\n",
      "F1: 0\n",
      "Epoch: 0\n",
      "Iteration: 1500\n",
      "True Positives: 0\n",
      "False Positives: 0\n",
      "False Negatives: 98794\n",
      "F1: 0\n",
      "Epoch: 0\n",
      "Iteration: 2000\n",
      "True Positives: 9\n",
      "False Positives: 0\n",
      "False Negatives: 98785\n",
      "F1: 0.00018218070301509063\n",
      "model saved!\n"
     ]
    },
    {
     "name": "stderr",
     "output_type": "stream",
     "text": [
      "/home/vishesh/anaconda3/lib/python3.6/site-packages/torch/serialization.py:147: UserWarning: Couldn't retrieve source code for container of type FFNN. It won't be checked for correctness upon loading.\n",
      "  \"type \" + obj.__name__ + \". It won't be checked \"\n"
     ]
    },
    {
     "name": "stdout",
     "output_type": "stream",
     "text": [
      "Epoch: 0\n",
      "Iteration: 2500\n",
      "True Positives: 0\n",
      "False Positives: 0\n",
      "False Negatives: 98794\n",
      "F1: 0\n",
      "Epoch: 0\n",
      "Iteration: 3000\n",
      "True Positives: 1\n",
      "False Positives: 0\n",
      "False Negatives: 98793\n",
      "F1: 2.0243939470620983e-05\n",
      "Epoch: 0\n",
      "Iteration: 3500\n",
      "True Positives: 0\n",
      "False Positives: 0\n",
      "False Negatives: 98794\n",
      "F1: 0\n",
      "Epoch: 0\n",
      "Iteration: 4000\n",
      "True Positives: 0\n",
      "False Positives: 0\n",
      "False Negatives: 98794\n",
      "F1: 0\n"
     ]
    },
    {
     "ename": "KeyboardInterrupt",
     "evalue": "",
     "output_type": "error",
     "traceback": [
      "\u001b[0;31m---------------------------------------------------------------------------\u001b[0m",
      "\u001b[0;31mKeyboardInterrupt\u001b[0m                         Traceback (most recent call last)",
      "\u001b[0;32m<ipython-input-37-a912be5c9af2>\u001b[0m in \u001b[0;36m<module>\u001b[0;34m()\u001b[0m\n\u001b[1;32m     16\u001b[0m \u001b[0;34m\u001b[0m\u001b[0m\n\u001b[1;32m     17\u001b[0m             \u001b[0;32mif\u001b[0m \u001b[0miterations\u001b[0m \u001b[0;34m%\u001b[0m \u001b[0;36m500\u001b[0m \u001b[0;34m==\u001b[0m \u001b[0;36m0\u001b[0m\u001b[0;34m:\u001b[0m\u001b[0;34m\u001b[0m\u001b[0m\n\u001b[0;32m---> 18\u001b[0;31m                 \u001b[0mtp\u001b[0m\u001b[0;34m,\u001b[0m \u001b[0mfp\u001b[0m\u001b[0;34m,\u001b[0m \u001b[0mfn\u001b[0m\u001b[0;34m,\u001b[0m \u001b[0mprecision\u001b[0m\u001b[0;34m,\u001b[0m \u001b[0mrecall\u001b[0m\u001b[0;34m,\u001b[0m \u001b[0mf1_\u001b[0m \u001b[0;34m=\u001b[0m \u001b[0mcomputeF1\u001b[0m\u001b[0;34m(\u001b[0m\u001b[0mmodel\u001b[0m\u001b[0;34m,\u001b[0m \u001b[0minput_dev\u001b[0m\u001b[0;34m,\u001b[0m \u001b[0moutput_dev\u001b[0m\u001b[0;34m)\u001b[0m\u001b[0;34m\u001b[0m\u001b[0m\n\u001b[0m\u001b[1;32m     19\u001b[0m                 \u001b[0mprint\u001b[0m \u001b[0;34m(\u001b[0m\u001b[0;34m'Epoch: '\u001b[0m \u001b[0;34m+\u001b[0m \u001b[0mstr\u001b[0m\u001b[0;34m(\u001b[0m\u001b[0mepoch\u001b[0m\u001b[0;34m)\u001b[0m\u001b[0;34m)\u001b[0m\u001b[0;34m\u001b[0m\u001b[0m\n\u001b[1;32m     20\u001b[0m                 \u001b[0mprint\u001b[0m \u001b[0;34m(\u001b[0m\u001b[0;34m'Iteration: '\u001b[0m \u001b[0;34m+\u001b[0m \u001b[0mstr\u001b[0m\u001b[0;34m(\u001b[0m\u001b[0miterations\u001b[0m\u001b[0;34m)\u001b[0m\u001b[0;34m)\u001b[0m\u001b[0;34m\u001b[0m\u001b[0m\n",
      "\u001b[0;32m<ipython-input-33-2687be7a4b5b>\u001b[0m in \u001b[0;36mcomputeF1\u001b[0;34m(model, dev_input, dev_label)\u001b[0m\n\u001b[1;32m     21\u001b[0m     \u001b[0mfn\u001b[0m \u001b[0;34m=\u001b[0m \u001b[0;36m0\u001b[0m\u001b[0;34m\u001b[0m\u001b[0m\n\u001b[1;32m     22\u001b[0m     \u001b[0;32mfor\u001b[0m \u001b[0mj\u001b[0m \u001b[0;32min\u001b[0m \u001b[0mrange\u001b[0m\u001b[0;34m(\u001b[0m\u001b[0;36m0\u001b[0m\u001b[0;34m,\u001b[0m \u001b[0mlen\u001b[0m\u001b[0;34m(\u001b[0m\u001b[0mdev_input\u001b[0m\u001b[0;34m)\u001b[0m\u001b[0;34m,\u001b[0m \u001b[0mBATCH_SIZE\u001b[0m\u001b[0;34m)\u001b[0m\u001b[0;34m:\u001b[0m\u001b[0;34m\u001b[0m\u001b[0m\n\u001b[0;32m---> 23\u001b[0;31m         \u001b[0minputs\u001b[0m\u001b[0;34m,\u001b[0m \u001b[0mlabels\u001b[0m \u001b[0;34m=\u001b[0m \u001b[0mdataLoader\u001b[0m\u001b[0;34m(\u001b[0m\u001b[0mj\u001b[0m\u001b[0;34m,\u001b[0m \u001b[0mBATCH_SIZE\u001b[0m\u001b[0;34m,\u001b[0m \u001b[0mdev_input\u001b[0m\u001b[0;34m,\u001b[0m \u001b[0mdev_label\u001b[0m\u001b[0;34m,\u001b[0m \u001b[0mINPUT_DIM\u001b[0m\u001b[0;34m)\u001b[0m\u001b[0;34m\u001b[0m\u001b[0m\n\u001b[0m\u001b[1;32m     24\u001b[0m         \u001b[0minputs\u001b[0m \u001b[0;34m=\u001b[0m \u001b[0mVariable\u001b[0m\u001b[0;34m(\u001b[0m\u001b[0minputs\u001b[0m\u001b[0;34m)\u001b[0m\u001b[0;34m\u001b[0m\u001b[0m\n\u001b[1;32m     25\u001b[0m         \u001b[0moutputs\u001b[0m \u001b[0;34m=\u001b[0m \u001b[0mmodel\u001b[0m\u001b[0;34m(\u001b[0m\u001b[0minputs\u001b[0m\u001b[0;34m)\u001b[0m\u001b[0;34m\u001b[0m\u001b[0m\n",
      "\u001b[0;32m<ipython-input-32-42cbd568d4c5>\u001b[0m in \u001b[0;36mdataLoader\u001b[0;34m(start_index, batch_size, inputs, labels, input_dim)\u001b[0m\n\u001b[1;32m     20\u001b[0m \u001b[0;34m\u001b[0m\u001b[0m\n\u001b[1;32m     21\u001b[0m     \u001b[0;32mfor\u001b[0m \u001b[0mpos\u001b[0m \u001b[0;32min\u001b[0m \u001b[0mrange\u001b[0m\u001b[0;34m(\u001b[0m\u001b[0mstart_index\u001b[0m\u001b[0;34m,\u001b[0m \u001b[0mstart_index\u001b[0m \u001b[0;34m+\u001b[0m \u001b[0mbatch_size\u001b[0m\u001b[0;34m)\u001b[0m\u001b[0;34m:\u001b[0m\u001b[0;34m\u001b[0m\u001b[0m\n\u001b[0;32m---> 22\u001b[0;31m         \u001b[0minputs_tensor_list\u001b[0m\u001b[0;34m.\u001b[0m\u001b[0mappend\u001b[0m\u001b[0;34m(\u001b[0m\u001b[0;34m(\u001b[0m\u001b[0mtorch\u001b[0m\u001b[0;34m.\u001b[0m\u001b[0mfrom_numpy\u001b[0m\u001b[0;34m(\u001b[0m\u001b[0minputs\u001b[0m\u001b[0;34m[\u001b[0m\u001b[0mpos\u001b[0m\u001b[0;34m]\u001b[0m\u001b[0;34m.\u001b[0m\u001b[0mreshape\u001b[0m\u001b[0;34m(\u001b[0m\u001b[0minput_dim\u001b[0m\u001b[0;34m)\u001b[0m\u001b[0;34m)\u001b[0m\u001b[0;34m)\u001b[0m\u001b[0;34m.\u001b[0m\u001b[0mfloat\u001b[0m\u001b[0;34m(\u001b[0m\u001b[0;34m)\u001b[0m\u001b[0;34m)\u001b[0m\u001b[0;34m\u001b[0m\u001b[0m\n\u001b[0m\u001b[1;32m     23\u001b[0m         \u001b[0mlabels_tensor_list\u001b[0m\u001b[0;34m.\u001b[0m\u001b[0mappend\u001b[0m\u001b[0;34m(\u001b[0m\u001b[0mtorch\u001b[0m\u001b[0;34m.\u001b[0m\u001b[0mfrom_numpy\u001b[0m\u001b[0;34m(\u001b[0m\u001b[0mlabels\u001b[0m\u001b[0;34m[\u001b[0m\u001b[0mpos\u001b[0m\u001b[0;34m]\u001b[0m\u001b[0;34m)\u001b[0m\u001b[0;34m)\u001b[0m\u001b[0;34m\u001b[0m\u001b[0m\n\u001b[1;32m     24\u001b[0m \u001b[0;34m\u001b[0m\u001b[0m\n",
      "\u001b[0;31mKeyboardInterrupt\u001b[0m: "
     ]
    }
   ],
   "source": [
    "iterations = 0\n",
    "bestF1 = 0\n",
    "for epoch in range (1):\n",
    "    for t, l in zip(list_of_train_files, list_of_label_files):\n",
    "        input_ = np.load(t)\n",
    "        output_ = np.load(l)\n",
    "        for i in range(0, len(input_), BATCH_SIZE):\n",
    "            inputs, labels = dataLoader(i, BATCH_SIZE, input_, output_, INPUT_DIM)\n",
    "            if torch.cuda.is_available():\n",
    "                inputs , labels = Variable(inputs.cuda()), Variable(labels.cuda())\n",
    "            else:\n",
    "                inputs , labels = Variable(inputs), Variable(labels)\n",
    "            optimizer.zero_grad()\n",
    "            outputs = model(inputs)   \n",
    "            loss = criterion(outputs, labels)        \n",
    "            loss.backward()\n",
    "            optimizer.step()\n",
    "            iterations += 1\n",
    "\n",
    "            if iterations % 500 == 0:\n",
    "                tp, fp, fn, precision, recall, f1_ = computeF1(model, input_dev, output_dev)\n",
    "                print ('Epoch: ' + str(epoch))\n",
    "                print ('Iteration: ' + str(iterations))\n",
    "                print ('True Positives: ' + str(tp))\n",
    "                print ('False Positives: ' + str(fp))\n",
    "                print ('False Negatives: ' + str(fn))\n",
    "                print ('F1: ' + str(f1_))\n",
    "                if f1_ > bestF1:\n",
    "                    bestF1 = f1_\n",
    "                    torch.save(model, '/home/vishesh/TUM/Thesis/Coreference-Resolution/models/bestModel.pt')\n",
    "                    print ('model saved!')"
   ]
  },
  {
   "cell_type": "code",
   "execution_count": 47,
   "metadata": {
    "collapsed": true
   },
   "outputs": [],
   "source": [
    "loadedModel = torch.load('/home/vishesh/TUM/Thesis/Coreference-Resolution/models/bestModel.pt')"
   ]
  },
  {
   "cell_type": "code",
   "execution_count": 48,
   "metadata": {
    "collapsed": true,
    "scrolled": true
   },
   "outputs": [],
   "source": [
    "tp, fp, fn, precision, recall, f1 = computeF1(loadedModel, input_dev, output_dev)"
   ]
  },
  {
   "cell_type": "code",
   "execution_count": 49,
   "metadata": {},
   "outputs": [
    {
     "data": {
      "text/plain": [
       "0.7315546919761851"
      ]
     },
     "execution_count": 49,
     "metadata": {},
     "output_type": "execute_result"
    }
   ],
   "source": [
    "f1"
   ]
  },
  {
   "cell_type": "markdown",
   "metadata": {},
   "source": [
    "## Checking on real leife inputs"
   ]
  },
  {
   "cell_type": "code",
   "execution_count": null,
   "metadata": {
    "collapsed": true
   },
   "outputs": [],
   "source": []
  }
 ],
 "metadata": {
  "kernelspec": {
   "display_name": "Python 3",
   "language": "python",
   "name": "python3"
  },
  "language_info": {
   "codemirror_mode": {
    "name": "ipython",
    "version": 3
   },
   "file_extension": ".py",
   "mimetype": "text/x-python",
   "name": "python",
   "nbconvert_exporter": "python",
   "pygments_lexer": "ipython3",
   "version": "3.6.1"
  }
 },
 "nbformat": 4,
 "nbformat_minor": 2
}
